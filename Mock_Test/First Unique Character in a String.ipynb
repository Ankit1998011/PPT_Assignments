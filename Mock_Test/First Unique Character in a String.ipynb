{
 "cells": [
  {
   "cell_type": "markdown",
   "id": "0f06a45d-0509-42e8-906b-f74f92c42c4e",
   "metadata": {},
   "source": [
    "First Unique Character in a String\n",
    "\n",
    "Given a string s, find the first non-repeating character in it and return its index. If it does not exist, return -1.\n",
    "\n",
    "Example 1:\n",
    "\n",
    "Input: s = \"leetcode\"\n",
    "\n",
    "Output: 0\n",
    "\n",
    "Example 2:\n",
    "\n",
    "Input: s = \"loveleetcode\"\n",
    "\n",
    "Output: 2\n",
    "\n",
    "\n",
    "Example 3:\n",
    "\n",
    "Input: s = \"aabb\"\n",
    "\n",
    "Output: -1\n",
    "\n",
    "\n",
    "Constraints:\n",
    "\n",
    "\n",
    "a. 1 <= s.length <= 10^5\n",
    "\n",
    "b. s consists of only lowercase English letters."
   ]
  },
  {
   "cell_type": "code",
   "execution_count": 3,
   "id": "4a790666-a1ed-413a-bb2c-4233b1e027ab",
   "metadata": {},
   "outputs": [],
   "source": [
    "## Solution:-\n",
    "\n",
    "def FirstUniqueCharacter(Str):\n",
    "    \n",
    "    Dict = {}\n",
    "    \n",
    "    for i in Str:\n",
    "        \n",
    "        if i in Dict:\n",
    "            Dict[i]+=1\n",
    "        else:\n",
    "            Dict[i]=1\n",
    "    \n",
    "    for i in range(0,len(Str)):\n",
    "        \n",
    "        if Str[i] in Dict and Dict[Str[i]]==1:\n",
    "            return i\n",
    "    \n",
    "    return -1"
   ]
  },
  {
   "cell_type": "code",
   "execution_count": 10,
   "id": "31bfbb64-3c59-4269-80a2-b9cd6c2502da",
   "metadata": {},
   "outputs": [
    {
     "data": {
      "text/plain": [
       "-1"
      ]
     },
     "execution_count": 10,
     "metadata": {},
     "output_type": "execute_result"
    }
   ],
   "source": [
    "FirstUniqueCharacter(\"aabb\")"
   ]
  },
  {
   "cell_type": "markdown",
   "id": "2bf3899b-fab5-425a-81bc-a4941de6f1b3",
   "metadata": {},
   "source": [
    "-----------------------------------------------------------------------------------------------------------------------------------------------------"
   ]
  },
  {
   "cell_type": "code",
   "execution_count": null,
   "id": "b3bde15b-5f2d-420f-9988-74262435341f",
   "metadata": {},
   "outputs": [],
   "source": []
  }
 ],
 "metadata": {
  "kernelspec": {
   "display_name": "Python 3 (ipykernel)",
   "language": "python",
   "name": "python3"
  },
  "language_info": {
   "codemirror_mode": {
    "name": "ipython",
    "version": 3
   },
   "file_extension": ".py",
   "mimetype": "text/x-python",
   "name": "python",
   "nbconvert_exporter": "python",
   "pygments_lexer": "ipython3",
   "version": "3.10.8"
  }
 },
 "nbformat": 4,
 "nbformat_minor": 5
}
