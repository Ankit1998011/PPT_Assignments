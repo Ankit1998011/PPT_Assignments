{
 "cells": [
  {
   "cell_type": "markdown",
   "id": "1c9df682-1899-4fbc-a04c-55f5f2d23901",
   "metadata": {},
   "source": [
    "Move Zeroes\n",
    "\n",
    "Given an integer array nums, move all 0's to the end of it while maintaining the relative order of the non-zero elements.\n",
    "\n",
    "Note that you must do this in-place without making a copy of the array.\n",
    "\n",
    "Example 1:\n",
    "Input: nums = [0,1,0,3,12]\n",
    "Output: [1,3,12,0,0]\n",
    "\n",
    "Example 2:\n",
    "Input: nums = [0]\n",
    "Output: [0]\n",
    "\n",
    "Constraints:\n",
    "a. 1 <= nums.length <= 10^4\n",
    "b. -2^31 <= nums[i] <= 2^31 - 1"
   ]
  },
  {
   "cell_type": "code",
   "execution_count": 3,
   "id": "6f649bf5-1ab4-4660-855e-d88a89250460",
   "metadata": {},
   "outputs": [],
   "source": [
    "## Solution:-\n",
    "\n",
    "def sort_zero(arr):\n",
    "    \n",
    "    n = len(arr)\n",
    "    count = 0\n",
    "    for i in arr:\n",
    "        if i==0:\n",
    "            count+=1\n",
    "    \n",
    "    while count>0:\n",
    "        \n",
    "        for i in range(1,n):\n",
    "            if arr[i-1]==0:\n",
    "                arr[i],arr[i-1] = arr[i-1],arr[i]\n",
    "        n -=1\n",
    "        count-=1\n",
    "    return arr"
   ]
  },
  {
   "cell_type": "code",
   "execution_count": 5,
   "id": "84966ba1-b541-43a7-b9ca-9421976398bb",
   "metadata": {},
   "outputs": [
    {
     "data": {
      "text/plain": [
       "[1, 3, 12, 0, 0]"
      ]
     },
     "execution_count": 5,
     "metadata": {},
     "output_type": "execute_result"
    }
   ],
   "source": [
    "sort_zero([0,1,0,3,12])"
   ]
  },
  {
   "cell_type": "markdown",
   "id": "0e809db1-ab1c-4fe6-ba89-e4ab7441fafc",
   "metadata": {},
   "source": [
    "------------------------------------------------------------------------------------------------------------------------------------------------------"
   ]
  },
  {
   "cell_type": "code",
   "execution_count": null,
   "id": "bd6f886d-25b1-404c-8930-7e103d09bca6",
   "metadata": {},
   "outputs": [],
   "source": []
  }
 ],
 "metadata": {
  "kernelspec": {
   "display_name": "Python 3 (ipykernel)",
   "language": "python",
   "name": "python3"
  },
  "language_info": {
   "codemirror_mode": {
    "name": "ipython",
    "version": 3
   },
   "file_extension": ".py",
   "mimetype": "text/x-python",
   "name": "python",
   "nbconvert_exporter": "python",
   "pygments_lexer": "ipython3",
   "version": "3.10.8"
  }
 },
 "nbformat": 4,
 "nbformat_minor": 5
}
