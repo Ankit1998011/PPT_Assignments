{
 "cells": [
  {
   "cell_type": "markdown",
   "id": "67326668-21fe-42c1-90c8-296cbbf76603",
   "metadata": {},
   "source": [
    "Question 1\n",
    "\n",
    "Given an integer array nums of length n and an integer target, find three integers\n",
    "in nums such that the sum is closest to the target.\n",
    "Return the sum of the three integers.\n",
    "\n",
    "You may assume that each input would have exactly one solution.\n",
    "\n",
    "Example 1:\n",
    "\n",
    "Input: nums = [-1,2,1,-4], target = 1\n",
    "\n",
    "Output: 2\n",
    "\n",
    "Explanation: The sum that is closest to the target is 2. (-1 + 2 + 1 = 2)."
   ]
  },
  {
   "cell_type": "code",
   "execution_count": 4,
   "id": "8ae218d5-caa9-40e1-9236-da8cd74a1296",
   "metadata": {},
   "outputs": [],
   "source": [
    "## Solution:-\n",
    "\n",
    "def three_sum_closest(nums, target):\n",
    "    import sys\n",
    "    n = len(nums)\n",
    "    nums.sort()  \n",
    "    closest_sum = sys.maxsize\n",
    "    \n",
    "    for i in range(n-2):\n",
    "        left, right = i+1, n-1\n",
    "        while left < right:\n",
    "            current_sum = nums[i] + nums[left] + nums[right]\n",
    "            if abs(target - current_sum) < abs(target - closest_sum):\n",
    "                closest_sum = current_sum\n",
    "            if current_sum > target:\n",
    "                right -= 1\n",
    "            else:\n",
    "                left += 1\n",
    "                \n",
    "    return closest_sum\n"
   ]
  },
  {
   "cell_type": "code",
   "execution_count": 5,
   "id": "41905f06-277b-4cc9-90f5-ae66d37fff1f",
   "metadata": {},
   "outputs": [
    {
     "data": {
      "text/plain": [
       "2"
      ]
     },
     "execution_count": 5,
     "metadata": {},
     "output_type": "execute_result"
    }
   ],
   "source": [
    "three_sum_closest([-1,2,1,-4],1)"
   ]
  },
  {
   "cell_type": "markdown",
   "id": "066adeba-27dc-4656-a0aa-4e630426d7ef",
   "metadata": {},
   "source": [
    "-----------------------------------------------------------------------------------------------------------------------------------------------------------------------------------------"
   ]
  },
  {
   "cell_type": "markdown",
   "id": "c133f144-377d-4ccc-919d-987e2a5b0702",
   "metadata": {},
   "source": [
    "Question 2\n",
    "\n",
    "Given an array nums of n integers, return an array of all the unique quadruplets\n",
    "\n",
    "[nums[a], nums[b], nums[c], nums[d]] such that:\n",
    "\n",
    "           ● 0 <= a, b, c, d < n\n",
    "           ● a, b, c, and d are distinct.\n",
    "           ● nums[a] + nums[b] + nums[c] + nums[d] == target\n",
    "\n",
    "You may return the answer in any order.\n",
    "\n",
    "Example 1:\n",
    "\n",
    "Input: nums = [1,0,-1,0,-2,2], target = 0\n",
    "\n",
    "Output: [[-2,-1,1,2],[-2,0,0,2],[-1,0,0,1]]"
   ]
  },
  {
   "cell_type": "code",
   "execution_count": 6,
   "id": "74b154c7-38d1-4d45-99ef-450a61cebff3",
   "metadata": {},
   "outputs": [],
   "source": [
    "## Solution:-\n",
    "\n",
    "def four_sum(nums, target):\n",
    "    n = len(nums)\n",
    "    nums.sort()  \n",
    "    quadruplets = []\n",
    "    \n",
    "    for i in range(n-3):\n",
    "        if i > 0 and nums[i] == nums[i-1]:  \n",
    "            continue\n",
    "        for j in range(i+1, n-2):\n",
    "            if j > i+1 and nums[j] == nums[j-1]:  \n",
    "                continue\n",
    "            left, right = j+1, n-1\n",
    "            while left < right:\n",
    "                current_sum = nums[i] + nums[j] + nums[left] + nums[right]\n",
    "                if current_sum == target:\n",
    "                    quadruplets.append([nums[i], nums[j], nums[left], nums[right]])\n",
    "                    left += 1\n",
    "                    while left < right and nums[left] == nums[left-1]:  \n",
    "                        left += 1\n",
    "                elif current_sum > target:\n",
    "                    right -= 1\n",
    "                else:\n",
    "                    left += 1\n",
    "    \n",
    "    return quadruplets"
   ]
  },
  {
   "cell_type": "code",
   "execution_count": 7,
   "id": "97fe77cb-fd45-4229-ba24-dff49e716176",
   "metadata": {},
   "outputs": [
    {
     "data": {
      "text/plain": [
       "[[-2, -1, 1, 2], [-2, 0, 0, 2], [-1, 0, 0, 1]]"
      ]
     },
     "execution_count": 7,
     "metadata": {},
     "output_type": "execute_result"
    }
   ],
   "source": [
    "four_sum([1,0,-1,0,-2,2],0)"
   ]
  },
  {
   "cell_type": "markdown",
   "id": "0a6152ee-d71c-46a0-b500-8e5f6c4be028",
   "metadata": {},
   "source": [
    "-----------------------------------------------------------------------------------------------------------------------------------------------------------------------------------------"
   ]
  },
  {
   "cell_type": "markdown",
   "id": "1b22959e-4291-4465-b0e8-72f339b5ab57",
   "metadata": {},
   "source": [
    "<aside>\n",
    "💡 **Question 3**\n",
    "    \n",
    "A permutation of an array of integers is an arrangement of its members into a\n",
    "sequence or linear order.\n",
    "\n",
    "For example, for arr = [1,2,3], the following are all the permutations of arr:\n",
    "[1,2,3], [1,3,2], [2, 1, 3], [2, 3, 1], [3,1,2], [3,2,1].\n",
    "\n",
    "The next permutation of an array of integers is the next lexicographically greater\n",
    "permutation of its integer. More formally, if all the permutations of the array are\n",
    "sorted in one container according to their lexicographical order, then the next\n",
    "permutation of that array is the permutation that follows it in the sorted container.\n",
    "\n",
    "If such an arrangement is not possible, the array must be rearranged as the\n",
    "lowest possible order (i.e., sorted in ascending order).\n",
    "\n",
    "\n",
    "    ● For example, the next permutation of arr = [1,2,3] is [1,3,2].\n",
    "\n",
    "    ● Similarly, the next permutation of arr = [2,3,1] is [3,1,2].\n",
    "\n",
    "    ● While the next permutation of arr = [3,2,1] is [1,2,3] because [3,2,1] does not\n",
    "\n",
    "    have a lexicographical larger rearrangement.\n",
    "\n",
    "Given an array of integers nums, find the next permutation of nums.\n",
    "The replacement must be in place and use only constant extra memory.\n",
    "\n",
    "\n",
    "    **Example 1:**\n",
    "\n",
    "    Input: nums = [1,2,3]\n",
    "\n",
    "    Output: [1,3,2]\n",
    "\n",
    "</aside>"
   ]
  },
  {
   "cell_type": "code",
   "execution_count": 8,
   "id": "8a8b0e55-611e-4863-b6fe-b77c767329cd",
   "metadata": {},
   "outputs": [],
   "source": [
    "## Solution:\n",
    "\n",
    "def next_permutation(nums):\n",
    "    n = len(nums)\n",
    "    i = n - 2\n",
    "    \n",
    "    \n",
    "    while i >= 0 and nums[i] >= nums[i+1]:\n",
    "        i -= 1\n",
    "    \n",
    "    if i >= 0:\n",
    "        j = n - 1\n",
    "        \n",
    "        while j >= 0 and nums[i] >= nums[j]:\n",
    "            j -= 1\n",
    "        nums[i], nums[j] = nums[j], nums[i]\n",
    "    \n",
    "    \n",
    "    left, right = i+1, n-1\n",
    "    while left < right:\n",
    "        nums[left], nums[right] = nums[right], nums[left]\n",
    "        left += 1\n",
    "        right -= 1\n",
    "    \n",
    "    return nums\n"
   ]
  },
  {
   "cell_type": "code",
   "execution_count": 9,
   "id": "a1eb6ab1-d216-4a8c-8a0e-e9db37bf8304",
   "metadata": {},
   "outputs": [
    {
     "data": {
      "text/plain": [
       "[1, 3, 2]"
      ]
     },
     "execution_count": 9,
     "metadata": {},
     "output_type": "execute_result"
    }
   ],
   "source": [
    "next_permutation([1,2,3])"
   ]
  },
  {
   "cell_type": "markdown",
   "id": "52f595ec-f42c-4410-964c-e2eac60f05d3",
   "metadata": {},
   "source": [
    "-----------------------------------------------------------------------------------------------------------------------------------------------------------------------------------------"
   ]
  },
  {
   "cell_type": "markdown",
   "id": "f2a94c30-f7b8-419a-93c1-1e4fd6b2ad12",
   "metadata": {},
   "source": [
    "Question 4\n",
    "\n",
    "Given a sorted array of distinct integers and a target value, return the index if the\n",
    "target is found. If not, return the index where it would be if it were inserted in\n",
    "order.\n",
    "\n",
    "You must write an algorithm with O(log n) runtime complexity.\n",
    "\n",
    "Example 1:\n",
    "\n",
    "Input: nums = [1,3,5,6], target = 5\n",
    "\n",
    "Output: 2"
   ]
  },
  {
   "cell_type": "code",
   "execution_count": 11,
   "id": "43686b8e-a0e5-4af8-8e16-8242a16bd559",
   "metadata": {},
   "outputs": [],
   "source": [
    "## Solution:-\n",
    "\n",
    "def search(arr,target):\n",
    "    \n",
    "    if len(arr)==0:\n",
    "        return 0\n",
    "    i = 0\n",
    "    j = len(arr)-1\n",
    "    mid = i+(j-i)//2\n",
    "    while i<=j:\n",
    "        mid = i+(j-i)//2\n",
    "        \n",
    "        if target<arr[mid]:\n",
    "            j = mid-1\n",
    "        elif target>arr[mid]:\n",
    "            i = mid+1\n",
    "        else:\n",
    "            return mid\n",
    "    if arr[mid]>target:\n",
    "        return mid-1\n",
    "    else:\n",
    "        return mid+1"
   ]
  },
  {
   "cell_type": "code",
   "execution_count": 12,
   "id": "739a8148-614e-4257-8201-12dcd771e784",
   "metadata": {},
   "outputs": [
    {
     "data": {
      "text/plain": [
       "2"
      ]
     },
     "execution_count": 12,
     "metadata": {},
     "output_type": "execute_result"
    }
   ],
   "source": [
    "search([1,3,5,6],5)"
   ]
  },
  {
   "cell_type": "markdown",
   "id": "b951ed35-35d2-47ee-9595-5df10c291068",
   "metadata": {},
   "source": [
    "-----------------------------------------------------------------------------------------------------------------------------------------------------"
   ]
  },
  {
   "cell_type": "markdown",
   "id": "083e56e2-c1e6-4e94-99d8-34e90ad46254",
   "metadata": {},
   "source": [
    "<aside>\n",
    "💡 **Question 5**\n",
    "    \n",
    "You are given a large integer represented as an integer array digits, where each\n",
    "digits[i] is the ith digit of the integer. The digits are ordered from most significant\n",
    "to least significant in left-to-right order. The large integer does not contain any\n",
    "leading 0's.\n",
    "\n",
    "Increment the large integer by one and return the resulting array of digits.\n",
    "\n",
    "**Example 1:**\n",
    "\n",
    "Input: digits = [1,2,3]\n",
    "\n",
    "Output: [1,2,4]\n",
    "\n",
    "\n",
    "**Explanation:** The array represents the integer 123.\n",
    "\n",
    "Incrementing by one gives 123 + 1 = 124.\n",
    "\n",
    "Thus, the result should be [1,2,4].\n",
    "\n",
    "</aside>"
   ]
  },
  {
   "cell_type": "code",
   "execution_count": 13,
   "id": "5e3997ab-9d08-4670-97d1-c9719d4bca77",
   "metadata": {},
   "outputs": [],
   "source": [
    "## Solution:-\n",
    "\n",
    "def result(arr):\n",
    "    \n",
    "    n = len(arr)\n",
    "    res = 0\n",
    "    for i in arr:\n",
    "        res = res+i*10**(n-1)\n",
    "        n -=1\n",
    "        \n",
    "    res = res+1\n",
    "    arr = []\n",
    "    while res>=1:\n",
    "        \n",
    "        rem = res%10\n",
    "        arr.append(rem)\n",
    "        \n",
    "        res = res//10\n",
    "        \n",
    "    i = 0\n",
    "    j = len(arr)-1\n",
    "    \n",
    "    while i<j:\n",
    "        arr[i],arr[j] =  arr[j], arr[i]\n",
    "        i+=1\n",
    "        j-=1\n",
    "    \n",
    "    return arr"
   ]
  },
  {
   "cell_type": "code",
   "execution_count": 14,
   "id": "564792dc-2583-4729-9a2d-aa865b6a4e35",
   "metadata": {},
   "outputs": [
    {
     "data": {
      "text/plain": [
       "[1, 2, 4]"
      ]
     },
     "execution_count": 14,
     "metadata": {},
     "output_type": "execute_result"
    }
   ],
   "source": [
    "result([1,2,3])"
   ]
  },
  {
   "cell_type": "markdown",
   "id": "d6e9985d-7172-465b-98f6-127d6a0f4fd7",
   "metadata": {},
   "source": [
    "------------------------------------------------------------------------------------------------------------------------------------------------------"
   ]
  },
  {
   "cell_type": "markdown",
   "id": "a93db825-d963-4d59-9573-7a5b1069f52f",
   "metadata": {},
   "source": [
    "Question 6\n",
    "\n",
    "Given a non-empty array of integers nums, every element appears twice except\n",
    "for one. Find that single one.\n",
    "\n",
    "You must implement a solution with a linear runtime complexity and use only\n",
    "constant extra space.\n",
    "\n",
    "\n",
    "Example 1:\n",
    "\n",
    "Input: nums = [2,2,1]\n",
    "\n",
    "Output: 1"
   ]
  },
  {
   "cell_type": "code",
   "execution_count": 15,
   "id": "ec47451e-1693-4593-a1a4-4221f84e4f99",
   "metadata": {},
   "outputs": [],
   "source": [
    "## Solution:-\n",
    "\n",
    "def find_single_one(nums):\n",
    "    result = 0\n",
    "    for num in nums:\n",
    "        result ^= num\n",
    "    return result\n",
    "\n",
    "        "
   ]
  },
  {
   "cell_type": "code",
   "execution_count": 16,
   "id": "9d4872bf-4933-4066-8c2b-8fea40ae3ba8",
   "metadata": {},
   "outputs": [
    {
     "data": {
      "text/plain": [
       "1"
      ]
     },
     "execution_count": 16,
     "metadata": {},
     "output_type": "execute_result"
    }
   ],
   "source": [
    "find_single_one([2,2,1])"
   ]
  },
  {
   "cell_type": "markdown",
   "id": "1df936e5-5fe6-464e-b75b-34e9d800e45b",
   "metadata": {},
   "source": [
    "------------------------------------------------------------------------------------------------------------------------------------------------------"
   ]
  },
  {
   "cell_type": "markdown",
   "id": "e82282a4-f10b-470d-8e1f-c827a8253dd0",
   "metadata": {},
   "source": [
    "<aside>\n",
    "💡 **Question 7**\n",
    "    \n",
    "You are given an inclusive range [lower, upper] and a sorted unique integer array\n",
    "nums, where all elements are within the inclusive range.\n",
    "\n",
    "A number x is considered missing if x is in the range [lower, upper] and x is not in\n",
    "nums.\n",
    "\n",
    "Return the shortest sorted list of ranges that exactly covers all the missing\n",
    "numbers. That is, no element of nums is included in any of the ranges, and each\n",
    "missing number is covered by one of the ranges.\n",
    "\n",
    "**Example 1:**\n",
    "    \n",
    "\n",
    "Input: nums = [0,1,3,50,75], lower = 0, upper = 99\n",
    "    \n",
    "Output: [[2,2],[4,49],[51,74],[76,99]]\n",
    "\n",
    "**Explanation:** The ranges are:\n",
    "    \n",
    "[2,2]\n",
    "    \n",
    "[4,49]\n",
    "    \n",
    "[51,74]\n",
    "\n",
    "[76,99]\n",
    "\n",
    "</aside>\n"
   ]
  },
  {
   "cell_type": "code",
   "execution_count": 17,
   "id": "30e049cb-24c9-4f15-9e0f-ab63a58a89bb",
   "metadata": {},
   "outputs": [],
   "source": [
    "## Solution:-\n",
    "\n",
    "def find_missing_ranges(nums, lower, upper):\n",
    "    result = []\n",
    "    prev = lower - 1\n",
    "    \n",
    "    for i in range(len(nums) + 1):\n",
    "        curr = nums[i] if i < len(nums) else upper + 1\n",
    "        \n",
    "        if prev + 1 <= curr - 1:\n",
    "            result.append([prev + 1, curr - 1])\n",
    "        \n",
    "        prev = curr\n",
    "        \n",
    "    return result\n"
   ]
  },
  {
   "cell_type": "code",
   "execution_count": 18,
   "id": "28c5bfe7-e44b-4def-81cd-2232647b490d",
   "metadata": {},
   "outputs": [
    {
     "data": {
      "text/plain": [
       "[[2, 2], [4, 49], [51, 74], [76, 99]]"
      ]
     },
     "execution_count": 18,
     "metadata": {},
     "output_type": "execute_result"
    }
   ],
   "source": [
    "find_missing_ranges([0,1,3,50,75],0,99)"
   ]
  },
  {
   "cell_type": "markdown",
   "id": "e7c114fa-6aac-4754-9572-c72e41bc50d6",
   "metadata": {},
   "source": [
    "-----------------------------------------------------------------------------------------------------------------------------------------------------"
   ]
  },
  {
   "cell_type": "markdown",
   "id": "80c6f0a8-34e5-4bbb-a14f-01085dc571e9",
   "metadata": {},
   "source": [
    "Given an array of meeting time intervals where intervals[i] = [starti, endi],\n",
    "determine if a person could attend all meetings.\n",
    "\n",
    "Example 1:\n",
    "\n",
    "Input: intervals = [[0,30],[5,10],[15,20]]\n",
    "\n",
    "Output: false"
   ]
  },
  {
   "cell_type": "code",
   "execution_count": 19,
   "id": "5ebf7bc5-bb63-41e1-9bff-b8c5b21fee8e",
   "metadata": {},
   "outputs": [],
   "source": [
    "## Solution:-\n",
    "\n",
    "def can_attend_meetings(intervals):\n",
    "    intervals.sort(key=lambda x: x[0]) \n",
    "    for i in range(len(intervals) - 1):\n",
    "        if intervals[i][1] > intervals[i+1][0]:\n",
    "            \n",
    "            return False\n",
    "    return True\n"
   ]
  },
  {
   "cell_type": "code",
   "execution_count": 20,
   "id": "ea50b82a-9efa-434b-8ca9-12efb3e8da63",
   "metadata": {},
   "outputs": [
    {
     "data": {
      "text/plain": [
       "False"
      ]
     },
     "execution_count": 20,
     "metadata": {},
     "output_type": "execute_result"
    }
   ],
   "source": [
    "can_attend_meetings([[0,30],[5,10],[15,20]])"
   ]
  },
  {
   "cell_type": "markdown",
   "id": "56d2ca5a-ef27-4047-8abb-3e11729c18ce",
   "metadata": {},
   "source": [
    "-----------------------------------------------------------------------------------------------------------------------------------------------------"
   ]
  },
  {
   "cell_type": "code",
   "execution_count": null,
   "id": "71ce16d2-acaa-4f23-a61f-74cd9d8c4436",
   "metadata": {},
   "outputs": [],
   "source": []
  }
 ],
 "metadata": {
  "kernelspec": {
   "display_name": "Python 3 (ipykernel)",
   "language": "python",
   "name": "python3"
  },
  "language_info": {
   "codemirror_mode": {
    "name": "ipython",
    "version": 3
   },
   "file_extension": ".py",
   "mimetype": "text/x-python",
   "name": "python",
   "nbconvert_exporter": "python",
   "pygments_lexer": "ipython3",
   "version": "3.10.8"
  }
 },
 "nbformat": 4,
 "nbformat_minor": 5
}
