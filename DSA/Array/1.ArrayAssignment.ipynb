{
 "cells": [
  {
   "cell_type": "markdown",
   "id": "0579e863-733d-40da-a0a2-90fe30ac1b81",
   "metadata": {},
   "source": [
    "Q1.Given an array of integers nums and an integer target, return indices of the two numbers such that they add up to target.\n",
    "\n",
    "You may assume that each input would have exactly one solution, and you may not use the same element twice.\n",
    "\n",
    "You can return the answer in any order.\n",
    "\n",
    "**Example:**\n",
    "Input: nums = [2,7,11,15], target = 9\n",
    "Output0 [0,1]\n",
    "\n",
    "**Explanation:** Because nums[0] + nums[1] == 9, we return [0, 1][\n"
   ]
  },
  {
   "cell_type": "code",
   "execution_count": 7,
   "id": "02064d5d-1472-4c8e-8971-688e133d778a",
   "metadata": {},
   "outputs": [],
   "source": [
    "## Sol:-   Time Complexity: O(n^2)\n",
    "\n",
    "def result(arr, target):\n",
    "    \n",
    "    if len(arr)<=1:\n",
    "        return -1\n",
    "    \n",
    "    for i in range(0,len(arr)):\n",
    "        for j in range(i+1,len(arr)):\n",
    "            if arr[i]+arr[j] == target:\n",
    "                return [i,j]\n",
    "    \n",
    "    return -1\n",
    "    "
   ]
  },
  {
   "cell_type": "code",
   "execution_count": 12,
   "id": "5e9d6179-2137-4715-9880-bd38ada3f8ae",
   "metadata": {},
   "outputs": [
    {
     "data": {
      "text/plain": [
       "[1, 3]"
      ]
     },
     "execution_count": 12,
     "metadata": {},
     "output_type": "execute_result"
    }
   ],
   "source": [
    "arr =  [11,2,6,7,15]\n",
    "result(arr,9)"
   ]
  },
  {
   "cell_type": "markdown",
   "id": "521f0127-abaf-46ce-b200-5a28e035470d",
   "metadata": {},
   "source": [
    "------------------------------------------------------------------------------------------------------------------------------------------------------"
   ]
  },
  {
   "cell_type": "markdown",
   "id": "15622798-375b-483e-8904-10f8877c7ca2",
   "metadata": {},
   "source": [
    "Q2.Given an integer array nums and an integer val, remove all occurrences of val in nums in-place. The order of the elements may be changed. Then return the number of elements in nums which are not equal to val.\n",
    "\n",
    "Consider the number of elements in nums which are not equal to val be k, to get accepted, you need to do the following things:\n",
    "\n",
    "- Change the array nums such that the first k elements of nums contain the elements which are not equal to val. The remaining elements of nums are not important as well as the size of nums.\n",
    "- Return k.\n",
    "\n",
    "**Example :**\n",
    "Input: nums = [3,2,2,3], val = 3\n",
    "Output: 2, nums = [2,2,_*,_*]\n",
    "\n",
    "**Explanation:** Your function should return k = 2, with the first two elements of nums being 2. It does not matter what you leave beyond the returned k (hence they are underscores\n"
   ]
  },
  {
   "cell_type": "code",
   "execution_count": 31,
   "id": "c9474a09-ecd4-496b-b8b5-4b8314a0f048",
   "metadata": {},
   "outputs": [],
   "source": [
    "## Sol:-   Time Complexity:- O(n)\n",
    "\n",
    "def ans(num,val):\n",
    "    \n",
    "    if len(num)==0:\n",
    "        return 0\n",
    "    j = len(num)-1\n",
    "    i = 0 \n",
    "    count = 0\n",
    "    while i<j:\n",
    "        if num[j]==val:\n",
    "            j-=1\n",
    "            count+=1\n",
    "        elif num[i]==val:\n",
    "            num[i],num[j] = num[j],num[i]\n",
    "            i+=1\n",
    "            j-=1\n",
    "            count+=1\n",
    "        else:\n",
    "            i+=1\n",
    "            j-=1\n",
    "        \n",
    "    k = len(num)-count\n",
    "    \n",
    "    return k,num\n",
    "            "
   ]
  },
  {
   "cell_type": "code",
   "execution_count": 38,
   "id": "ba5b4544-9ef7-4554-ad0b-8ae633670b7d",
   "metadata": {},
   "outputs": [
    {
     "name": "stdout",
     "output_type": "stream",
     "text": [
      "k = 3, num = [4, 5, 2, 3, 3, 3, 3] \n"
     ]
    }
   ],
   "source": [
    "num =  [3,5,2,3,4,3,3]\n",
    "k,num = ans(num,3)\n",
    "print(f\"k = {k}, num = {num} \")"
   ]
  },
  {
   "cell_type": "markdown",
   "id": "f009162b-8859-4c20-9f4a-25c4b65f8b42",
   "metadata": {},
   "source": [
    "------------------------------------------------------------------------------------------------------------------------------------------------------"
   ]
  },
  {
   "cell_type": "markdown",
   "id": "25af2077-f5d7-40a1-8f22-d61f9a7fe73f",
   "metadata": {},
   "source": [
    "Q3.** Given a sorted array of distinct integers and a target value, return the index if the target is found. If not, return the index where it would be if it were inserted in order.\n",
    "\n",
    "You must write an algorithm with O(log n) runtime complexity.\n",
    "\n",
    "**Example 1:**\n",
    "Input: nums = [1,3,5,6], target = 5\n",
    "\n",
    "Output: 2\n"
   ]
  },
  {
   "cell_type": "code",
   "execution_count": 8,
   "id": "55178844-a205-4415-a66c-dc9a625ce4c9",
   "metadata": {},
   "outputs": [],
   "source": [
    "## Solution:-   Time Complexity(O(logn))\n",
    "\n",
    "def search(arr,target):\n",
    "    \n",
    "    if len(arr)==0:\n",
    "        return 0\n",
    "    i = 0\n",
    "    j = len(arr)-1\n",
    "    mid = i+(j-i)//2\n",
    "    while i<=j:\n",
    "        mid = i+(j-i)//2\n",
    "        \n",
    "        if target<arr[mid]:\n",
    "            j = mid-1\n",
    "        elif target>arr[mid]:\n",
    "            i = mid+1\n",
    "        else:\n",
    "            return mid\n",
    "    if arr[mid]>target:\n",
    "        return mid-1\n",
    "    else:\n",
    "        return mid+1"
   ]
  },
  {
   "cell_type": "code",
   "execution_count": 9,
   "id": "f1e270c1-9491-4822-a7ae-ea3fb9199dbb",
   "metadata": {},
   "outputs": [
    {
     "data": {
      "text/plain": [
       "2"
      ]
     },
     "execution_count": 9,
     "metadata": {},
     "output_type": "execute_result"
    }
   ],
   "source": [
    "search([1,3,5,6],5)"
   ]
  },
  {
   "cell_type": "code",
   "execution_count": 10,
   "id": "b544e49d-7d9f-44c2-aee4-d15b9da8a95e",
   "metadata": {},
   "outputs": [
    {
     "data": {
      "text/plain": [
       "1"
      ]
     },
     "execution_count": 10,
     "metadata": {},
     "output_type": "execute_result"
    }
   ],
   "source": [
    "search([1,3,5,6],2)"
   ]
  },
  {
   "cell_type": "markdown",
   "id": "b19cd7ca-7629-4bd3-af71-1c50270637bd",
   "metadata": {},
   "source": [
    "-----------------------------------------------------------------------------------------------------------------------------------------------------------------------------------------"
   ]
  },
  {
   "cell_type": "markdown",
   "id": "9e8d0318-eb49-4411-9941-1bdbd1c580bb",
   "metadata": {},
   "source": [
    "<aside>\n",
    "💡 **Q4.** You are given a large integer represented as an integer array digits, where each digits[i] is the ith digit of the integer. The digits are ordered from most significant to least significant in left-to-right order. The large integer does not contain any leading 0's.\n",
    "\n",
    "Increment the large integer by one and return the resulting array of digits.\n",
    "\n",
    "**Example 1:**\n",
    "Input: digits = [1,2,3]\n",
    "Output: [1,2,4]\n",
    "\n",
    "**Explanation:** The array represents the integer 123.\n",
    "\n",
    "Incrementing by one gives 123 + 1 = 124.\n",
    "Thus, the result should be [1,2,4].\n",
    "\n",
    "</aside>"
   ]
  },
  {
   "cell_type": "code",
   "execution_count": 15,
   "id": "23f3a2c0-7caf-49de-a893-6c9b2e241729",
   "metadata": {},
   "outputs": [],
   "source": [
    "## Solution:-  Time Complexity:- O(n)\n",
    "\n",
    "def result(arr):\n",
    "    \n",
    "    n = len(arr)\n",
    "    res = 0\n",
    "    for i in arr:\n",
    "        res = res+i*10**(n-1)\n",
    "        n -=1\n",
    "        \n",
    "    res = res+1\n",
    "    arr = []\n",
    "    while res>=1:\n",
    "        \n",
    "        rem = res%10\n",
    "        arr.append(rem)\n",
    "        \n",
    "        res = res//10\n",
    "        \n",
    "    i = 0\n",
    "    j = len(arr)-1\n",
    "    \n",
    "    while i<j:\n",
    "        arr[i],arr[j] =  arr[j], arr[i]\n",
    "        i+=1\n",
    "        j-=1\n",
    "    \n",
    "    return arr\n",
    "        \n",
    "    "
   ]
  },
  {
   "cell_type": "code",
   "execution_count": 18,
   "id": "83f7444e-c59b-4882-b2cd-73d908625184",
   "metadata": {},
   "outputs": [
    {
     "data": {
      "text/plain": [
       "[1, 2, 4]"
      ]
     },
     "execution_count": 18,
     "metadata": {},
     "output_type": "execute_result"
    }
   ],
   "source": [
    "result([1,2,3])"
   ]
  },
  {
   "cell_type": "markdown",
   "id": "b127a5bc-3fe2-4084-9623-7a11b7641afa",
   "metadata": {},
   "source": [
    "-----------------------------------------------------------------------------------------------------------------------------------------------------"
   ]
  },
  {
   "cell_type": "markdown",
   "id": "43b9edc0-d9de-4ba7-bd0b-9efb041ac27f",
   "metadata": {},
   "source": [
    "<aside>\n",
    "💡 **Q5.** You are given two integer arrays nums1 and nums2, sorted in non-decreasing order, and two integers m and n, representing the number of elements in nums1 and nums2 respectively.\n",
    "\n",
    "Merge nums1 and nums2 into a single array sorted in non-decreasing order.\n",
    "\n",
    "The final sorted array should not be returned by the function, but instead be stored inside the array nums1. To accommodate this, nums1 has a length of m + n, where the first m elements denote the elements that should be merged, and the last n elements are set to 0 and should be ignored. nums2 has a length of n.\n",
    "\n",
    "**Example 1:**\n",
    "Input: nums1 = [1,2,3,0,0,0], m = 3, nums2 = [2,5,6], n = 3\n",
    "Output: [1,2,2,3,5,6]\n",
    "\n",
    "**Explanation:** The arrays we are merging are [1,2,3] and [2,5,6].\n",
    "The result of the merge is [1,2,2,3,5,6] with the underlined elements coming from nums1.\n",
    "\n",
    "</aside>"
   ]
  },
  {
   "cell_type": "code",
   "execution_count": 9,
   "id": "1a012396-8c31-41cf-93ae-94a99fc8c320",
   "metadata": {},
   "outputs": [],
   "source": [
    "## Solution:- Time Complexity:- O(n+m)\n",
    "\n",
    "def res_sort(A1,A2,n,m):\n",
    "    \n",
    "    x = 0\n",
    "    y = 0\n",
    "    A3 = []\n",
    "    \n",
    "    while x<n and y<m:\n",
    "        if A1[x]<=A2[y]:\n",
    "            A3.append(A1[x])\n",
    "            x+=1\n",
    "        else:\n",
    "            A3.append(A2[y])\n",
    "            y+=1\n",
    "    \n",
    "    if x<n:\n",
    "        while x<n:\n",
    "            A3.append(A1[x])\n",
    "            x+=1\n",
    "    elif y<m:\n",
    "        while y<m:\n",
    "            A3.append(A2[y])\n",
    "            y+=1\n",
    "                \n",
    "    A1 = A3\n",
    "    return A3\n",
    "    \n",
    "        \n",
    "        "
   ]
  },
  {
   "cell_type": "code",
   "execution_count": 12,
   "id": "6b72aa4d-1484-4874-9748-64e7e28caa11",
   "metadata": {},
   "outputs": [
    {
     "data": {
      "text/plain": [
       "[1, 2, 2, 3, 5, 6]"
      ]
     },
     "execution_count": 12,
     "metadata": {},
     "output_type": "execute_result"
    }
   ],
   "source": [
    "A1 = [1,2,3,0,0,0] \n",
    "A2 = [2,5,6] \n",
    "res_sort(A1,A2,3,3)"
   ]
  },
  {
   "cell_type": "markdown",
   "id": "041f5d0f-fe9c-4275-a0dc-b0b7adfd5ff7",
   "metadata": {},
   "source": [
    "------------------------------------------------------------------------------------------------------------------------------------------------------"
   ]
  },
  {
   "cell_type": "markdown",
   "id": "ad4f5842-531c-4cfb-b676-4c9373348321",
   "metadata": {},
   "source": [
    "<aside>\n",
    "💡 **Q6.** Given an integer array nums, return true if any value appears at least twice in the array, and return false if every element is distinct.\n",
    "\n",
    "**Example 1:**\n",
    "Input: nums = [1,2,3,1]\n",
    "\n",
    "Output: true\n",
    "\n",
    "</aside>"
   ]
  },
  {
   "cell_type": "code",
   "execution_count": 13,
   "id": "423192b6-5566-4a40-86e1-8645488d52e4",
   "metadata": {},
   "outputs": [],
   "source": [
    "## Solution:- Time Complexity:- O(n^2)\n",
    "\n",
    "def check(arr):\n",
    "    n = len(arr)\n",
    "    for i in range(0,n):\n",
    "        for j in range(i+1,n):\n",
    "            if arr[i]==arr[j]:\n",
    "                return True\n",
    "    return False"
   ]
  },
  {
   "cell_type": "code",
   "execution_count": 17,
   "id": "0fbf1318-5c9d-4761-ae95-2e208c2b83ca",
   "metadata": {},
   "outputs": [
    {
     "data": {
      "text/plain": [
       "True"
      ]
     },
     "execution_count": 17,
     "metadata": {},
     "output_type": "execute_result"
    }
   ],
   "source": [
    "check([1,2,3,1])"
   ]
  },
  {
   "cell_type": "markdown",
   "id": "2f52bead-906b-4459-9aa7-0c230ea99889",
   "metadata": {},
   "source": [
    "-----------------------------------------------------------------------------------------------------------------------------------------------------"
   ]
  },
  {
   "cell_type": "markdown",
   "id": "97fa62ad-992a-42d6-8e78-ed7fed7c0f6d",
   "metadata": {},
   "source": [
    "<aside>\n",
    "💡 **Q7.** Given an integer array nums, move all 0's to the end of it while maintaining the relative order of the nonzero elements.\n",
    "\n",
    "Note that you must do this in-place without making a copy of the array.\n",
    "\n",
    "**Example 1:**\n",
    "Input: nums = [0,1,0,3,12]\n",
    "Output: [1,3,12,0,0]\n",
    "\n",
    "</aside>"
   ]
  },
  {
   "cell_type": "code",
   "execution_count": 1,
   "id": "c6f850a5-6d4d-4ab3-bc64-334bd709c6be",
   "metadata": {},
   "outputs": [],
   "source": [
    "## Solution:-   Time Complexity:- O(n^2)\n",
    "\n",
    "def sort_zero(arr):\n",
    "    \n",
    "    n = len(arr)\n",
    "    count = 0\n",
    "    for i in arr:\n",
    "        if i==0:\n",
    "            count+=1\n",
    "    \n",
    "    while count>0:\n",
    "        \n",
    "        for i in range(1,n):\n",
    "            if arr[i-1]==0:\n",
    "                arr[i],arr[i-1] = arr[i-1],arr[i]\n",
    "        n -=1\n",
    "        count-=1\n",
    "    return arr"
   ]
  },
  {
   "cell_type": "code",
   "execution_count": 8,
   "id": "3985982d-272c-4f27-b603-14030aa87e91",
   "metadata": {},
   "outputs": [
    {
     "data": {
      "text/plain": [
       "[1, 3, 12, 0, 0]"
      ]
     },
     "execution_count": 8,
     "metadata": {},
     "output_type": "execute_result"
    }
   ],
   "source": [
    "sort_zero([0,1,0,3,12])"
   ]
  },
  {
   "cell_type": "markdown",
   "id": "abdfc106-11ce-435c-9c01-13dec59c85b7",
   "metadata": {},
   "source": [
    "------------------------------------------------------------------------------------------------------------------------------------------------------"
   ]
  },
  {
   "cell_type": "markdown",
   "id": "b4a15758-6761-42e5-94a2-b5f6801e334b",
   "metadata": {},
   "source": [
    "<aside>\n",
    "💡 **Q8.** You have a set of integers s, which originally contains all the numbers from 1 to n. Unfortunately, due to some error, one of the numbers in s got duplicated to another number in the set, which results in repetition of one number and loss of another number.\n",
    "\n",
    "You are given an integer array nums representing the data status of this set after the error.\n",
    "\n",
    "Find the number that occurs twice and the number that is missing and return them in the form of an array.\n",
    "\n",
    "**Example 1:**\n",
    "Input: nums = [1,2,2,4]\n",
    "Output: [2,3]\n",
    "\n",
    "</aside>"
   ]
  },
  {
   "cell_type": "code",
   "execution_count": 23,
   "id": "800c6d16-19fd-4ca2-a609-3271be380276",
   "metadata": {},
   "outputs": [],
   "source": [
    "## Solution:-  Time Complexity:- O(n)\n",
    "\n",
    "def res_arr(arr):\n",
    "    \n",
    "    n = len(arr)\n",
    "    for i in range(1,n):\n",
    "        if arr[i-1]==arr[i]:\n",
    "            break\n",
    "    if arr[i-2]==arr[i]-1:\n",
    "        return [arr[i],arr[i]+1]\n",
    "    else:\n",
    "        return [arr[i]-1,arr[i]]"
   ]
  },
  {
   "cell_type": "code",
   "execution_count": 22,
   "id": "802e44a1-2a55-4598-a478-682aa06c5ad8",
   "metadata": {},
   "outputs": [
    {
     "data": {
      "text/plain": [
       "[2, 3]"
      ]
     },
     "execution_count": 22,
     "metadata": {},
     "output_type": "execute_result"
    }
   ],
   "source": [
    "res_arr([1,2,2,4])"
   ]
  },
  {
   "cell_type": "markdown",
   "id": "03c48145-6a26-4d72-9bec-c88fd1b36d00",
   "metadata": {},
   "source": [
    "-----------------------------------------------------------------------------------------------------------------------------------------------------"
   ]
  },
  {
   "cell_type": "code",
   "execution_count": null,
   "id": "1bb091cc-25df-449d-aa81-f3333c5571ae",
   "metadata": {},
   "outputs": [],
   "source": []
  }
 ],
 "metadata": {
  "kernelspec": {
   "display_name": "Python 3 (ipykernel)",
   "language": "python",
   "name": "python3"
  },
  "language_info": {
   "codemirror_mode": {
    "name": "ipython",
    "version": 3
   },
   "file_extension": ".py",
   "mimetype": "text/x-python",
   "name": "python",
   "nbconvert_exporter": "python",
   "pygments_lexer": "ipython3",
   "version": "3.10.8"
  }
 },
 "nbformat": 4,
 "nbformat_minor": 5
}
