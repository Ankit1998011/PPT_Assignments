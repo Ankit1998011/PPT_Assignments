{
 "cells": [
  {
   "cell_type": "markdown",
   "id": "cfb644d8-bfa0-4c96-94c9-10ad7b8e0974",
   "metadata": {},
   "source": [
    "<aside>\n",
    "💡 **Question 1**\n",
    "Given an integer array nums of 2n integers, group these integers into n pairs (a1, b1), (a2, b2),..., (an, bn) such that the sum of min(ai, bi) for all i is maximized. Return the maximized sum.\n",
    "\n",
    "**Example 1:**\n",
    "Input: nums = [1,4,3,2]\n",
    "Output: 4\n",
    "\n",
    "**Explanation:** All possible pairings (ignoring the ordering of elements) are:\n",
    "\n",
    "1. (1, 4), (2, 3) -> min(1, 4) + min(2, 3) = 1 + 2 = 3\n",
    "2. (1, 3), (2, 4) -> min(1, 3) + min(2, 4) = 1 + 2 = 3\n",
    "3. (1, 2), (3, 4) -> min(1, 2) + min(3, 4) = 1 + 3 = 4\n",
    "So the maximum possible sum is 4\n",
    "</aside>"
   ]
  },
  {
   "cell_type": "code",
   "execution_count": 2,
   "id": "f53964cb-30cb-42f2-8459-3561f675daa6",
   "metadata": {},
   "outputs": [],
   "source": [
    "## Solution:-\n",
    "\n",
    "def result(arr):\n",
    "    \n",
    "    arr.sort()\n",
    "    n = len(arr)\n",
    "    if n<4:\n",
    "        return -1\n",
    "    \n",
    "    min_ = min(arr[0],arr[1])\n",
    "    sum_ = 0\n",
    "    for i in range(2,n,2):\n",
    "        pre= min(arr[i],arr[i+1])\n",
    "        if pre+min_>sum_:\n",
    "            sum_ = pre+min_\n",
    "        min_ = pre\n",
    "    \n",
    "    return sum_        \n",
    "        \n",
    "        "
   ]
  },
  {
   "cell_type": "code",
   "execution_count": 5,
   "id": "0668f193-fc13-49dc-b711-f4aa729ea977",
   "metadata": {},
   "outputs": [
    {
     "data": {
      "text/plain": [
       "8"
      ]
     },
     "execution_count": 5,
     "metadata": {},
     "output_type": "execute_result"
    }
   ],
   "source": [
    "result([1,4,3,2,6,5])"
   ]
  },
  {
   "cell_type": "markdown",
   "id": "b6e8c1fb-c06e-46fd-a0e2-fdfd910d6f1b",
   "metadata": {},
   "source": [
    "-------------------------------------------------------------------------------------------------------------------------------------------"
   ]
  },
  {
   "cell_type": "markdown",
   "id": "fc594a8e-ae88-49f7-baab-332cafec6165",
   "metadata": {},
   "source": [
    "Question 2\n",
    "Alice has n candies, where the ith candy is of type candyType[i]. Alice noticed that she started to gain weight, so she visited a doctor. \n",
    "\n",
    "The doctor advised Alice to only eat n / 2 of the candies she has (n is always even). Alice likes her candies very much, and she wants to eat the maximum number of different types of candies while still following the doctor's advice. \n",
    "\n",
    "Given the integer array candyType of length n, return the maximum number of different types of candies she can eat if she only eats n / 2 of them.\n",
    "\n",
    "Example 1:\n",
    "Input: candyType = [1,1,2,2,3,3]\n",
    "Output: 3\n",
    "\n",
    "Explanation: Alice can only eat 6 / 2 = 3 candies. Since there are only 3 types, she can eat one of each type."
   ]
  },
  {
   "cell_type": "code",
   "execution_count": 8,
   "id": "17db13ac-4499-4abc-ba9e-72cad27a0265",
   "metadata": {},
   "outputs": [],
   "source": [
    "## Solution:-\n",
    "\n",
    "def candy_type(arr):\n",
    "    \n",
    "    n = len(arr)\n",
    "    new_n = n/2\n",
    "    if n>0:\n",
    "        type_count = 1\n",
    "    else:\n",
    "        return 0\n",
    "    i = 1\n",
    "    while i<n and type_count<=new_n:\n",
    "        \n",
    "        if arr[i]!=arr[i-1]:\n",
    "            type_count+=1\n",
    "        \n",
    "        i+=1\n",
    "        \n",
    "    return type_count\n",
    "                "
   ]
  },
  {
   "cell_type": "code",
   "execution_count": 13,
   "id": "1d8bb631-31bd-4d42-b5bd-4fd333b6a630",
   "metadata": {},
   "outputs": [
    {
     "data": {
      "text/plain": [
       "3"
      ]
     },
     "execution_count": 13,
     "metadata": {},
     "output_type": "execute_result"
    }
   ],
   "source": [
    "candy_type([1,1,2,2,3,3])"
   ]
  },
  {
   "cell_type": "markdown",
   "id": "36b0dcd6-267c-42cb-b8ea-6d3eef3877a2",
   "metadata": {},
   "source": [
    "-------------------------------------------------------------------------------------------------------------------------------------------"
   ]
  },
  {
   "cell_type": "markdown",
   "id": "27c74ed4-8956-4359-b582-628343ac6721",
   "metadata": {},
   "source": [
    "We define a harmonious array as an array where the difference between its maximum value\n",
    "and its minimum value is exactly 1.\n",
    "\n",
    "Given an integer array nums, return the length of its longest harmonious subsequence\n",
    "among all its possible subsequences.\n",
    "\n",
    "A subsequence of an array is a sequence that can be derived from the array by deleting some or no elements without changing the order of the remaining elements.\n",
    "\n",
    "Example 1:\n",
    "Input: nums = [1,3,2,2,5,2,3,7]\n",
    "Output: 5\n",
    "\n",
    "Explanation: The longest harmonious subsequence is [3,2,2,2,3]."
   ]
  },
  {
   "cell_type": "code",
   "execution_count": 8,
   "id": "9c81ae31-af90-4fcb-82ab-ad7fd3b1e0c2",
   "metadata": {},
   "outputs": [],
   "source": [
    "## Solution:-\n",
    "\n",
    "def solution(arr):\n",
    "    num_count = {}\n",
    "    for i in arr:\n",
    "        if i in num_count:\n",
    "            num_count[i]+=1\n",
    "        else:\n",
    "            num_count[i] = 1\n",
    "    \n",
    "    max_length = 0\n",
    "    for i in num_count.keys():\n",
    "        if i+1 in num_count.keys():\n",
    "            l =  num_count[i]+num_count[i+1]\n",
    "            if l>max_length:\n",
    "                max_length = l\n",
    "    \n",
    "    return max_length"
   ]
  },
  {
   "cell_type": "code",
   "execution_count": 9,
   "id": "48434e00-eb47-4227-ae30-9be6569e62e0",
   "metadata": {},
   "outputs": [
    {
     "data": {
      "text/plain": [
       "5"
      ]
     },
     "execution_count": 9,
     "metadata": {},
     "output_type": "execute_result"
    }
   ],
   "source": [
    "solution([1,3,2,2,5,2,3,7])"
   ]
  },
  {
   "cell_type": "markdown",
   "id": "89fa54f8-4410-4e18-be2b-4e89fc46c457",
   "metadata": {},
   "source": [
    "-----------------------------------------------------------------------------------------------------------------------------------------------------"
   ]
  },
  {
   "cell_type": "markdown",
   "id": "b5f9b4e4-e46c-403b-96cc-191a11fedfaf",
   "metadata": {},
   "source": [
    "Question 4\n",
    "You have a long flowerbed in which some of the plots are planted, and some are not.\n",
    "However, flowers cannot be planted in adjacent plots.\n",
    "Given an integer array flowerbed containing 0's and 1's, where 0 means empty and 1 means not empty, and an integer n, return true if n new flowers can be planted in the flowerbed without violating the no-adjacent-flowers rule and false otherwise.\n",
    "\n",
    "Example 1:\n",
    "Input: flowerbed = [1,0,0,0,1], n = 1\n",
    "Output: true"
   ]
  },
  {
   "cell_type": "code",
   "execution_count": 22,
   "id": "a69d8c83-0d5d-47f2-945d-56e9ecf50e33",
   "metadata": {},
   "outputs": [],
   "source": [
    "## Solution:-\n",
    "\n",
    "def sol4(arr,n):\n",
    "    \n",
    "    l = len(arr)\n",
    "    if l==1 and l==n:\n",
    "        if arr[0]==0:\n",
    "            return True\n",
    "        else:\n",
    "            return False\n",
    "    count = 0\n",
    "    for i in range(1,l):\n",
    "        \n",
    "        if count==n:\n",
    "            return True\n",
    "        elif i==(l-1):\n",
    "            if arr[i]==0 and arr[i-1]==0:\n",
    "                count+=1\n",
    "        elif arr[i]==0:\n",
    "            if arr[i-1]==0 and arr[i+1]==0:\n",
    "                count+=1\n",
    "    if count==n:\n",
    "        return True\n",
    "    return False\n",
    "            "
   ]
  },
  {
   "cell_type": "code",
   "execution_count": 27,
   "id": "f3533fe9-60ff-412f-936d-9bff2fd378e4",
   "metadata": {},
   "outputs": [
    {
     "data": {
      "text/plain": [
       "True"
      ]
     },
     "execution_count": 27,
     "metadata": {},
     "output_type": "execute_result"
    }
   ],
   "source": [
    "sol4([1,0,0,0,1],1)"
   ]
  },
  {
   "cell_type": "markdown",
   "id": "64a72c0c-6a8f-4a1d-af87-b53cc97a96f0",
   "metadata": {},
   "source": [
    "-----------------------------------------------------------------------------------------------------------------------------------------------------"
   ]
  },
  {
   "cell_type": "markdown",
   "id": "d1081d0c-616c-4b7b-9bb4-89f9a16a1a63",
   "metadata": {},
   "source": [
    "Question 5\n",
    "Given an integer array nums, find three numbers whose product is maximum and return the maximum product.\n",
    "\n",
    "Example 1:\n",
    "Input: nums = [1,2,3]\n",
    "Output: 6"
   ]
  },
  {
   "cell_type": "code",
   "execution_count": 2,
   "id": "6bd8837d-37b9-4066-a5ce-e5d08eba20ab",
   "metadata": {},
   "outputs": [],
   "source": [
    "## Solution:-\n",
    "\n",
    "def product(arr):\n",
    "    arr.sort()\n",
    "    n = len(arr)-1\n",
    "    prod1 = arr[n]*arr[n-1]*arr[n-2]\n",
    "    prod2 = arr[0]*arr[1]*arr[n]\n",
    "    \n",
    "    if prod1>=prod2:\n",
    "        return prod1\n",
    "    else:\n",
    "        return prod2\n",
    "    "
   ]
  },
  {
   "cell_type": "code",
   "execution_count": 5,
   "id": "ecd53aa5-bef1-4395-a481-4f861ea178b3",
   "metadata": {},
   "outputs": [
    {
     "data": {
      "text/plain": [
       "6"
      ]
     },
     "execution_count": 5,
     "metadata": {},
     "output_type": "execute_result"
    }
   ],
   "source": [
    "product([1,2,3])"
   ]
  },
  {
   "cell_type": "markdown",
   "id": "d0a48a50-4b30-4454-a568-7f6935fa1096",
   "metadata": {},
   "source": [
    "------------------------------------------------------------------------------------------------------------------------------------------------------"
   ]
  },
  {
   "cell_type": "markdown",
   "id": "3dd0ccf9-8339-4760-834b-5c1ee62f6af1",
   "metadata": {},
   "source": [
    "Question 6\n",
    "Given an array of integers nums which is sorted in ascending order, and an integer target,\n",
    "write a function to search target in nums. If target exists, then return its index. Otherwise,\n",
    "return -1.\n",
    "\n",
    "You must write an algorithm with O(log n) runtime complexity.\n",
    "\n",
    "Input: nums = [-1,0,3,5,9,12], target = 9\n",
    "Output: 4\n",
    "\n",
    "Explanation: 9 exists in nums and its index is 4"
   ]
  },
  {
   "cell_type": "code",
   "execution_count": 10,
   "id": "a094ea76-69bd-45bd-b8f9-af83e08b8266",
   "metadata": {},
   "outputs": [],
   "source": [
    "## Solution:-\n",
    "\n",
    "def search(arr,target):\n",
    "    \n",
    "    n = len(arr)\n",
    "    i = 0\n",
    "    j = n-1\n",
    "    \n",
    "    while i<=j:\n",
    "        \n",
    "        mid = i+(j-i)//2\n",
    "        \n",
    "        if arr[mid]==target:\n",
    "            return mid\n",
    "        elif target<arr[mid]:\n",
    "            j = mid-1\n",
    "        elif target>arr[mid]:\n",
    "            i = mid+1\n",
    "        \n",
    "    return -1\n",
    "        \n",
    "    "
   ]
  },
  {
   "cell_type": "code",
   "execution_count": 17,
   "id": "82b3078a-a026-4a5a-bbff-ab761b4efe3f",
   "metadata": {},
   "outputs": [
    {
     "data": {
      "text/plain": [
       "4"
      ]
     },
     "execution_count": 17,
     "metadata": {},
     "output_type": "execute_result"
    }
   ],
   "source": [
    "search([-1,0,3,5,9,12],9)"
   ]
  },
  {
   "cell_type": "markdown",
   "id": "13937272-8e7b-4ea7-a881-22db70644d5a",
   "metadata": {},
   "source": [
    "------------------------------------------------------------------------------------------------------------------------------------------------------"
   ]
  },
  {
   "cell_type": "markdown",
   "id": "3be057c4-507e-4034-9be2-82e23a0015e5",
   "metadata": {},
   "source": [
    "Question 7\n",
    "An array is monotonic if it is either monotone increasing or monotone decreasing.\n",
    "\n",
    "An array nums is monotone increasing if for all i <= j, nums[i] <= nums[j]. An array nums is\n",
    "monotone decreasing if for all i <= j, nums[i] >= nums[j].\n",
    "\n",
    "Given an integer array nums, return true if the given array is monotonic, or false otherwise.\n",
    "\n",
    "Example 1:\n",
    "Input: nums = [1,2,2,3]\n",
    "Output: true"
   ]
  },
  {
   "cell_type": "code",
   "execution_count": 18,
   "id": "d917fbd3-79bc-45cd-9b31-49266a078575",
   "metadata": {},
   "outputs": [],
   "source": [
    "## Solution:-\n",
    "\n",
    "def check(arr):\n",
    "    incr = True\n",
    "    decr = True\n",
    "    \n",
    "    for i in range(1,len(arr)):\n",
    "        if arr[i]<arr[i-1]:\n",
    "            incr = False\n",
    "        if arr[i]>arr[i-1]:\n",
    "            decr = False\n",
    "    \n",
    "    if incr or decr:\n",
    "        return True\n",
    "    \n",
    "    return False"
   ]
  },
  {
   "cell_type": "code",
   "execution_count": 25,
   "id": "5617bec2-e5cb-4ec1-bba2-41842c9cc6f1",
   "metadata": {},
   "outputs": [
    {
     "data": {
      "text/plain": [
       "True"
      ]
     },
     "execution_count": 25,
     "metadata": {},
     "output_type": "execute_result"
    }
   ],
   "source": [
    "check([1,2,2,3])"
   ]
  },
  {
   "cell_type": "markdown",
   "id": "a163b87b-0202-4254-a3c3-869ae978da34",
   "metadata": {},
   "source": [
    "------------------------------------------------------------------------------------------------------------------------------------------------------"
   ]
  },
  {
   "cell_type": "markdown",
   "id": "b02ab95e-edd9-43b0-bec9-91bdaea5b2a8",
   "metadata": {},
   "source": [
    "Question 8\n",
    "You are given an integer array nums and an integer k.\n",
    "\n",
    "In one operation, you can choose any index i where 0 <= i < nums.length and change nums[i] to nums[i] + x where x is an integer from the range [-k, k]. You can apply this operation at most once for each index i.\n",
    "\n",
    "The score of nums is the difference between the maximum and minimum elements in nums.\n",
    "\n",
    "Return the minimum score of nums after applying the mentioned operation at most once for each index in it.\n",
    "\n",
    "Example 1:\n",
    "Input: nums = [1], k = 0\n",
    "Output: 0\n",
    "\n",
    "Explanation: The score is max(nums) - min(nums) = 1 - 1 = 0."
   ]
  },
  {
   "cell_type": "code",
   "execution_count": null,
   "id": "36e8d85b-54a5-4876-aa2e-17e9f1fb5860",
   "metadata": {},
   "outputs": [],
   "source": [
    "## Solution:-\n",
    "\n"
   ]
  }
 ],
 "metadata": {
  "kernelspec": {
   "display_name": "Python 3 (ipykernel)",
   "language": "python",
   "name": "python3"
  },
  "language_info": {
   "codemirror_mode": {
    "name": "ipython",
    "version": 3
   },
   "file_extension": ".py",
   "mimetype": "text/x-python",
   "name": "python",
   "nbconvert_exporter": "python",
   "pygments_lexer": "ipython3",
   "version": "3.10.8"
  }
 },
 "nbformat": 4,
 "nbformat_minor": 5
}
